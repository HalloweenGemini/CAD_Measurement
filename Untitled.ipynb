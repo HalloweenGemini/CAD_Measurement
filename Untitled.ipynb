{
 "cells": [
  {
   "cell_type": "code",
   "execution_count": 14,
   "id": "760e6664-8ad8-4cdd-9a69-be68b9989bf1",
   "metadata": {},
   "outputs": [],
   "source": [
    "from utils_func import *\n",
    "from pydicom import dcmread\n",
    "from pydicom.data import get_testdata_file\n",
    "from pydicom.pixel_data_handlers.util import apply_voi_lut\n",
    "\n",
    "import streamlit as st\n",
    "from streamlit_image_coordinates import streamlit_image_coordinates\n",
    "\n",
    "from PIL import Image\n",
    "import cv2\n",
    "from skimage import img_as_ubyte\n",
    "\n",
    "def define_circle(p1, p2, p3):\n",
    "    \"\"\"\n",
    "    Returns the center and radius of the circle passing the given 3 points.\n",
    "    In case the 3 points form a line, returns (None, infinity).\n",
    "    \"\"\"\n",
    "    temp = p2[0] * p2[0] + p2[1] * p2[1]\n",
    "    bc = (p1[0] * p1[0] + p1[1] * p1[1] - temp) / 2\n",
    "    cd = (temp - p3[0] * p3[0] - p3[1] * p3[1]) / 2\n",
    "    det = (p1[0] - p2[0]) * (p2[1] - p3[1]) - (p2[0] - p3[0]) * (p1[1] - p2[1])\n",
    "    \n",
    "    if abs(det) < 1.0e-6:\n",
    "        return (None, np.inf)\n",
    "    \n",
    "    # Center of circle\n",
    "    cx = (bc*(p2[1] - p3[1]) - cd*(p1[1] - p2[1])) / det\n",
    "    cy = ((p1[0] - p2[0]) * cd - (p2[0] - p3[0]) * bc) / det\n",
    "    \n",
    "    radius = np.sqrt((cx - p1[0])**2 + (cy - p1[1])**2)\n",
    "    return ((cx, cy), radius)\n",
    "\n",
    "\n",
    "ds = dcmread('khk.dcm')\n",
    "y_ratio, x_ratio = ds.ImagerPixelSpacing\n",
    "ds_array= ds.pixel_array\n",
    "ds_array = cv2.normalize(ds_array, None, 0, 255, cv2.NORM_MINMAX, dtype=cv2.CV_8U)"
   ]
  },
  {
   "cell_type": "code",
   "execution_count": 16,
   "id": "1358c01c-06fa-4b31-b72a-419ba4e3f5f1",
   "metadata": {},
   "outputs": [
    {
     "data": {
      "text/plain": [
       "True"
      ]
     },
     "execution_count": 16,
     "metadata": {},
     "output_type": "execute_result"
    }
   ],
   "source": [
    "cv2.imwrite(os.path.join('ds_array.jpg'), ds_array)"
   ]
  },
  {
   "cell_type": "code",
   "execution_count": null,
   "id": "fc7c5535-e811-47cd-b7b2-c59b43364912",
   "metadata": {},
   "outputs": [],
   "source": [
    "."
   ]
  }
 ],
 "metadata": {
  "kernelspec": {
   "display_name": "Python 3 (ipykernel)",
   "language": "python",
   "name": "python3"
  },
  "language_info": {
   "codemirror_mode": {
    "name": "ipython",
    "version": 3
   },
   "file_extension": ".py",
   "mimetype": "text/x-python",
   "name": "python",
   "nbconvert_exporter": "python",
   "pygments_lexer": "ipython3",
   "version": "3.8.13"
  }
 },
 "nbformat": 4,
 "nbformat_minor": 5
}
