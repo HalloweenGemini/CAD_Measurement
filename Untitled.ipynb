{
 "cells": [
  {
   "cell_type": "code",
   "execution_count": 22,
   "id": "760e6664-8ad8-4cdd-9a69-be68b9989bf1",
   "metadata": {},
   "outputs": [],
   "source": [
    "from utils_func import *\n",
    "from pydicom import dcmread\n",
    "from pydicom.data import get_testdata_file\n",
    "from pydicom.pixel_data_handlers.util import apply_voi_lut\n",
    "\n",
    "import streamlit as st\n",
    "from streamlit_image_coordinates import streamlit_image_coordinates\n",
    "\n",
    "from PIL import Image\n",
    "import cv2\n",
    "from skimage import img_as_ubyte\n",
    "\n",
    "def define_circle(p1, p2, p3):\n",
    "    \"\"\"\n",
    "    Returns the center and radius of the circle passing the given 3 points.\n",
    "    In case the 3 points form a line, returns (None, infinity).\n",
    "    \"\"\"\n",
    "    temp = p2[0] * p2[0] + p2[1] * p2[1]\n",
    "    bc = (p1[0] * p1[0] + p1[1] * p1[1] - temp) / 2\n",
    "    cd = (temp - p3[0] * p3[0] - p3[1] * p3[1]) / 2\n",
    "    det = (p1[0] - p2[0]) * (p2[1] - p3[1]) - (p2[0] - p3[0]) * (p1[1] - p2[1])\n",
    "    \n",
    "    if abs(det) < 1.0e-6:\n",
    "        return (None, np.inf)\n",
    "    \n",
    "    # Center of circle\n",
    "    cx = (bc*(p2[1] - p3[1]) - cd*(p1[1] - p2[1])) / det\n",
    "    cy = ((p1[0] - p2[0]) * cd - (p2[0] - p3[0]) * bc) / det\n",
    "    \n",
    "    radius = np.sqrt((cx - p1[0])**2 + (cy - p1[1])**2)\n",
    "    return ((cx, cy), radius)\n",
    "\n",
    "\n",
    "ds = dcmread('khk_CT.dcm')\n",
    "# y_ratio, x_ratio = ds.ImagerPixelSpacing\n",
    "# ds_array= ds.pixel_array\n",
    "# ds_array = cv2.normalize(ds_array, None, 0, 255, cv2.NORM_MINMAX, dtype=cv2.CV_8U)"
   ]
  },
  {
   "cell_type": "code",
   "execution_count": 16,
   "id": "1358c01c-06fa-4b31-b72a-419ba4e3f5f1",
   "metadata": {},
   "outputs": [
    {
     "data": {
      "text/plain": [
       "True"
      ]
     },
     "execution_count": 16,
     "metadata": {},
     "output_type": "execute_result"
    }
   ],
   "source": [
    "cv2.imwrite(os.path.join('ds_array.jpg'), ds_array)"
   ]
  },
  {
   "cell_type": "code",
   "execution_count": 21,
   "id": "acba3dd6-348e-49b9-8552-0d764f811d13",
   "metadata": {
    "collapsed": true,
    "jupyter": {
     "outputs_hidden": true
    },
    "tags": []
   },
   "outputs": [
    {
     "data": {
      "text/plain": [
       "Dataset.file_meta -------------------------------\n",
       "(0002, 0000) File Meta Information Group Length  UL: 228\n",
       "(0002, 0001) File Meta Information Version       OB: b'\\x00\\x01'\n",
       "(0002, 0002) Media Storage SOP Class UID         UI: CT Image Storage\n",
       "(0002, 0003) Media Storage SOP Instance UID      UI: 1.3.12.2.1107.5.8.15.131140.30000023041618171441500000641\n",
       "(0002, 0010) Transfer Syntax UID                 UI: Explicit VR Little Endian\n",
       "(0002, 0012) Implementation Class UID            UI: 1.2.410.200003.2020819.5.2.1\n",
       "(0002, 0013) Implementation Version Name         SH: 'MAROTECH REGISTER 5.0'\n",
       "(0002, 0016) Source Application Entity Title     AE: 'GXACQ8_2002'\n",
       "-------------------------------------------------\n",
       "(0008, 0005) Specific Character Set              CS: 'ISO_IR 100'\n",
       "(0008, 0008) Image Type                          CS: ['DERIVED', 'SECONDARY', 'AXIAL', 'MPR THICK', 'PARALLEL']\n",
       "(0008, 0012) Instance Creation Date              DA: '20230417'\n",
       "(0008, 0013) Instance Creation Time              TM: '041646.617679'\n",
       "(0008, 0016) SOP Class UID                       UI: CT Image Storage\n",
       "(0008, 0018) SOP Instance UID                    UI: 1.3.12.2.1107.5.8.15.131140.30000023041618171441500000641\n",
       "(0008, 001b) Original Specialized SOP Class UID  UI: 1.3.12.2.1107.5.99.3.10\n",
       "(0008, 0020) Study Date                          DA: '20230417'\n",
       "(0008, 0021) Series Date                         DA: '20230417'\n",
       "(0008, 0022) Acquisition Date                    DA: '20230417'\n",
       "(0008, 0023) Content Date                        DA: '20230417'\n",
       "(0008, 0030) Study Time                          TM: '002037.098'\n",
       "(0008, 0031) Series Time                         TM: '041643.352048'\n",
       "(0008, 0032) Acquisition Time                    TM: '002331'\n",
       "(0008, 0033) Content Time                        TM: '002331.965'\n",
       "(0008, 0050) Accession Number                    SH: '540604160301'\n",
       "(0008, 0060) Modality                            CS: 'CT'\n",
       "(0008, 0070) Manufacturer                        LO: 'Siemens Healthineers'\n",
       "(0008, 0080) Institution Name                    LO: 'SNUH Radiology - ER'\n",
       "(0008, 0081) Institution Address                 ST: 'SEOUL, KOREA'\n",
       "(0008, 0090) Referring Physician's Name          PN: '21754'\n",
       "(0008, 1010) Station Name                        SH: 'SYNGOVIA131140'\n",
       "(0008, 1030) Study Description                   LO: 'CT Rt Ankle + 3D (noncontrast)'\n",
       "(0008, 103e) Series Description                  LO: 'MPR 1.5mm Range[3]'\n",
       "(0008, 1040) Institutional Department Name       LO: 'Radiology'\n",
       "(0008, 1080) Admitting Diagnoses Description     LO: ''\n",
       "(0008, 1084)  Admitting Diagnoses Code Sequence  0 item(s) ---- \n",
       "(0008, 1090) Manufacturer's Model Name           LO: 'syngo.via.VB40A'\n",
       "(0008, 1111)  Referenced Performed Procedure Step Sequence  1 item(s) ---- \n",
       "   (0008, 1150) Referenced SOP Class UID            UI: Modality Performed Procedure Step SOP Class\n",
       "   (0008, 1155) Referenced SOP Instance UID         UI: 1.3.46.670589.33.1.63817287634830004800001.4647256502257854065\n",
       "   ---------\n",
       "(0008, 2111) Derivation Description              ST: 'Secondary Capture'\n",
       "(0008, 9215)  Derivation Code Sequence  1 item(s) ---- \n",
       "   (0008, 0100) Code Value                          SH: '113074'\n",
       "   (0008, 0102) Coding Scheme Designator            SH: 'DCM'\n",
       "   (0008, 0103) Coding Scheme Version               SH: '1.0'\n",
       "   (0008, 0104) Code Meaning                        LO: 'Volume rendering'\n",
       "   ---------\n",
       "(0010, 0010) Patient's Name                      PN: 'ANONYMIZED'\n",
       "(0010, 0020) Patient ID                          LO: 'ANONYMIZED'\n",
       "(0010, 0030) Patient's Birth Date                DA: 'UNKNOWN'\n",
       "(0010, 0040) Patient's Sex                       CS: 'F'\n",
       "(0010, 1010) Patient's Age                       AS: '070Y'\n",
       "(0018, 0050) Slice Thickness                     DS: '1.5'\n",
       "(0018, 0060) KVP                                 DS: '120.0'\n",
       "(0018, 1000) Device Serial Number                LO: '131140'\n",
       "(0018, 1020) Software Versions                   LO: 'VB40A'\n",
       "(0018, 1030) Protocol Name                       LO: 'Ankle /Orthoped'\n",
       "(0018, 1050) Spatial Resolution                  DS: '0.0'\n",
       "(0018, 1160) Filter Type                         SH: 'YC'\n",
       "(0018, 5100) Patient Position                    CS: 'FFS'\n",
       "(0020, 000d) Study Instance UID                  UI: 1.2.410.200003.9.1.0.55325406.20230417.200.540604160301.1\n",
       "(0020, 000e) Series Instance UID                 UI: 1.3.12.2.1107.5.8.15.131140.30000023041618171441500000602\n",
       "(0020, 0010) Study ID                            SH: '893'\n",
       "(0020, 0011) Series Number                       IS: '1012'\n",
       "(0020, 0012) Acquisition Number                  IS: '2'\n",
       "(0020, 0013) Instance Number                     IS: '38'\n",
       "(0020, 0032) Image Position (Patient)            DS: [-4.5634300E+001, 7.9738716E+001, -4.3577200E+002]\n",
       "(0020, 0037) Image Orientation (Patient)         DS: [2.9877426E-001, 9.5383490E-001, 3.0543858E-002, 1.5346106E-001, -1.6430862E-002, -9.8801808E-001]\n",
       "(0020, 0052) Frame of Reference UID              UI: 1.3.46.670589.33.1.63817287646570676300002.5617097980884401618\n",
       "(0020, 1040) Position Reference Indicator        LO: ''\n",
       "(0020, 4000) Image Comments                      LT: 'SAG'\n",
       "(0028, 0002) Samples per Pixel                   US: 1\n",
       "(0028, 0004) Photometric Interpretation          CS: 'MONOCHROME2'\n",
       "(0028, 0010) Rows                                US: 1362\n",
       "(0028, 0011) Columns                             US: 1042\n",
       "(0028, 0030) Pixel Spacing                       DS: [1.4626366E-001, 1.4626366E-001]\n",
       "(0028, 0100) Bits Allocated                      US: 16\n",
       "(0028, 0101) Bits Stored                         US: 12\n",
       "(0028, 0102) High Bit                            US: 11\n",
       "(0028, 0103) Pixel Representation                US: 0\n",
       "(0028, 0301) Burned In Annotation                CS: 'NO'\n",
       "(0028, 1050) Window Center                       DS: '500.0'\n",
       "(0028, 1051) Window Width                        DS: '2000.0'\n",
       "(0028, 1052) Rescale Intercept                   DS: '-1024.0'\n",
       "(0028, 1053) Rescale Slope                       DS: '1.0'\n",
       "(0028, 1054) Rescale Type                        LO: 'US'\n",
       "(0028, 1055) Window Center & Width Explanation   LO: 'MPR'\n",
       "(0028, 2110) Lossy Image Compression             CS: '00'\n",
       "(0029, 0010) Private Creator                     LO: 'SIEMENS MEDCOM HEADER'\n",
       "(0029, 0011) Private Creator                     LO: 'SIEMENS SYNGO ADVANCED PRESENTATION'\n",
       "(0029, 1040)  Private tag data  1 item(s) ---- \n",
       "   (0029, 0010) Private Creator                     LO: 'SIEMENS MEDCOM HEADER'\n",
       "   (0029, 1041) [Application Header Type]           CS: 'VIA_NO_VOLUME'\n",
       "   (0029, 1042) [Application Header ID]             LO: 'NOT FOR VOLUME WORKFLOW'\n",
       "   (0029, 1043) [Application Header Version]        LO: 'V1 20120620'\n",
       "   ---------\n",
       "(0029, 117e) Private tag data                    CS: 'IDENTITY'\n",
       "(0037, 0035) Private Creator                     LO: 'MAROTECH Inc.'\n",
       "(0037, 3501) [Some kind of version number]       LO: '3.0'\n",
       "(0037, 3521) [Icon Row]                          US: 156\n",
       "(0037, 3522) [Icon Col]                          US: 204\n",
       "(0037, 3523) [JPEG Compressed Icon]              OB: Array of 5032 elements\n",
       "(2050, 0020) Presentation LUT Shape              CS: 'IDENTITY'\n",
       "(7fe0, 0010) Pixel Data                          OW: Array of 2838408 elements"
      ]
     },
     "execution_count": 21,
     "metadata": {},
     "output_type": "execute_result"
    }
   ],
   "source": [
    "ds = dcmread('khk_CT.dcm')\n",
    "ds"
   ]
  },
  {
   "cell_type": "code",
   "execution_count": 35,
   "id": "e587db65-f910-4e6f-83e0-dd5dd467f101",
   "metadata": {},
   "outputs": [],
   "source": [
    "ds_array= ds.pixel_array\n",
    "ds_array = cv2.normalize(ds_array, None, 0, 255, cv2.NORM_MINMAX, dtype=cv2.CV_8U)"
   ]
  },
  {
   "cell_type": "code",
   "execution_count": 26,
   "id": "f9888491-ad6b-4a59-a344-b7e00d0121de",
   "metadata": {},
   "outputs": [
    {
     "ename": "AttributeError",
     "evalue": "'numpy.ndarray' object has no attribute 'save'",
     "output_type": "error",
     "traceback": [
      "\u001b[0;31m---------------------------------------------------------------------------\u001b[0m",
      "\u001b[0;31mAttributeError\u001b[0m                            Traceback (most recent call last)",
      "Input \u001b[0;32mIn [26]\u001b[0m, in \u001b[0;36m<cell line: 3>\u001b[0;34m()\u001b[0m\n\u001b[1;32m      1\u001b[0m \u001b[38;5;28;01mfrom\u001b[39;00m \u001b[38;5;21;01mio\u001b[39;00m \u001b[38;5;28;01mimport\u001b[39;00m BytesIO\n\u001b[1;32m      2\u001b[0m buffered \u001b[38;5;241m=\u001b[39m BytesIO()\n\u001b[0;32m----> 3\u001b[0m \u001b[43mds_array\u001b[49m\u001b[38;5;241;43m.\u001b[39;49m\u001b[43msave\u001b[49m(buffered, \u001b[38;5;28mformat\u001b[39m\u001b[38;5;241m=\u001b[39m\u001b[38;5;124m\"\u001b[39m\u001b[38;5;124mJPEG\u001b[39m\u001b[38;5;124m\"\u001b[39m)\n",
      "\u001b[0;31mAttributeError\u001b[0m: 'numpy.ndarray' object has no attribute 'save'"
     ]
    }
   ],
   "source": [
    "from io import BytesIO\n",
    "buffered = BytesIO()\n",
    "ds_array.save(buffered, format=\"JPEG\")"
   ]
  },
  {
   "cell_type": "code",
   "execution_count": 10,
   "id": "fc7c5535-e811-47cd-b7b2-c59b43364912",
   "metadata": {},
   "outputs": [
    {
     "ename": "SyntaxError",
     "evalue": "leading zeros in decimal integer literals are not permitted; use an 0o prefix for octal integers (2041548897.py, line 1)",
     "output_type": "error",
     "traceback": [
      "\u001b[0;36m  Input \u001b[0;32mIn [10]\u001b[0;36m\u001b[0m\n\u001b[0;31m    ds[(0002, 0002)]\u001b[0m\n\u001b[0m           ^\u001b[0m\n\u001b[0;31mSyntaxError\u001b[0m\u001b[0;31m:\u001b[0m leading zeros in decimal integer literals are not permitted; use an 0o prefix for octal integers\n"
     ]
    }
   ],
   "source": [
    "ds.file_meta.MediaStorageSOPClassUID"
   ]
  },
  {
   "cell_type": "code",
   "execution_count": 27,
   "id": "1bf5e44d-8508-4839-8f49-e14532e327f2",
   "metadata": {},
   "outputs": [
    {
     "ename": "AttributeError",
     "evalue": "module 'streamlit' has no attribute 'StreamlitIO'",
     "output_type": "error",
     "traceback": [
      "\u001b[0;31m---------------------------------------------------------------------------\u001b[0m",
      "\u001b[0;31mAttributeError\u001b[0m                            Traceback (most recent call last)",
      "Input \u001b[0;32mIn [27]\u001b[0m, in \u001b[0;36m<cell line: 1>\u001b[0;34m()\u001b[0m\n\u001b[0;32m----> 1\u001b[0m \u001b[43mst\u001b[49m\u001b[38;5;241;43m.\u001b[39;49m\u001b[43mStreamlitIO\u001b[49m\n",
      "\u001b[0;31mAttributeError\u001b[0m: module 'streamlit' has no attribute 'StreamlitIO'"
     ]
    }
   ],
   "source": [
    "st.StreamlitIO"
   ]
  },
  {
   "cell_type": "code",
   "execution_count": 30,
   "id": "04e3c4a8-e900-4c25-afa8-adb9c05ed684",
   "metadata": {},
   "outputs": [
    {
     "ename": "AttributeError",
     "evalue": "module 'streamlit' has no attribute 'canvas_drawable'",
     "output_type": "error",
     "traceback": [
      "\u001b[0;31m---------------------------------------------------------------------------\u001b[0m",
      "\u001b[0;31mAttributeError\u001b[0m                            Traceback (most recent call last)",
      "Input \u001b[0;32mIn [30]\u001b[0m, in \u001b[0;36m<cell line: 1>\u001b[0;34m()\u001b[0m\n\u001b[0;32m----> 1\u001b[0m \u001b[43mst\u001b[49m\u001b[38;5;241;43m.\u001b[39;49m\u001b[43mcanvas_drawable\u001b[49m(\u001b[38;5;241m50\u001b[39m, \u001b[38;5;241m50\u001b[39m, draw_text\u001b[38;5;241m=\u001b[39m\u001b[38;5;28;01mFalse\u001b[39;00m, key\u001b[38;5;241m=\u001b[39m\u001b[38;5;124m\"\u001b[39m\u001b[38;5;124mcanvas\u001b[39m\u001b[38;5;124m\"\u001b[39m)\n",
      "\u001b[0;31mAttributeError\u001b[0m: module 'streamlit' has no attribute 'canvas_drawable'"
     ]
    }
   ],
   "source": [
    "st.canvas_drawable(50, 50, draw_text=False, key=\"canvas\")"
   ]
  },
  {
   "cell_type": "code",
   "execution_count": 31,
   "id": "c5beaab9-7002-4d5f-a244-c61c8a7c9568",
   "metadata": {},
   "outputs": [],
   "source": [
    "import streamlit_drawable_canvas as dc"
   ]
  },
  {
   "cell_type": "code",
   "execution_count": 33,
   "id": "3e0454cc-2458-4afb-8c25-40e8e6f71289",
   "metadata": {},
   "outputs": [
    {
     "ename": "TypeError",
     "evalue": "st_canvas() got an unexpected keyword argument 'draw_text'",
     "output_type": "error",
     "traceback": [
      "\u001b[0;31m---------------------------------------------------------------------------\u001b[0m",
      "\u001b[0;31mTypeError\u001b[0m                                 Traceback (most recent call last)",
      "Input \u001b[0;32mIn [33]\u001b[0m, in \u001b[0;36m<cell line: 1>\u001b[0;34m()\u001b[0m\n\u001b[0;32m----> 1\u001b[0m \u001b[43mdc\u001b[49m\u001b[38;5;241;43m.\u001b[39;49m\u001b[43mst_canvas\u001b[49m\u001b[43m(\u001b[49m\u001b[38;5;241;43m50\u001b[39;49m\u001b[43m,\u001b[49m\u001b[43m \u001b[49m\u001b[38;5;241;43m50\u001b[39;49m\u001b[43m,\u001b[49m\u001b[43m \u001b[49m\u001b[43mdraw_text\u001b[49m\u001b[38;5;241;43m=\u001b[39;49m\u001b[38;5;28;43;01mFalse\u001b[39;49;00m\u001b[43m,\u001b[49m\u001b[43m \u001b[49m\u001b[43mkey\u001b[49m\u001b[38;5;241;43m=\u001b[39;49m\u001b[38;5;124;43m\"\u001b[39;49m\u001b[38;5;124;43mcanvas\u001b[39;49m\u001b[38;5;124;43m\"\u001b[39;49m\u001b[43m)\u001b[49m\n",
      "\u001b[0;31mTypeError\u001b[0m: st_canvas() got an unexpected keyword argument 'draw_text'"
     ]
    }
   ],
   "source": [
    "dc.st_canvas(50, 50, draw_text=False, key=\"canvas\")"
   ]
  },
  {
   "cell_type": "code",
   "execution_count": 36,
   "id": "3a97256c-09a9-4868-b7b7-653fbe0fb7da",
   "metadata": {},
   "outputs": [
    {
     "name": "stderr",
     "output_type": "stream",
     "text": [
      "2023-04-22 19:54:54.590 \n",
      "  \u001b[33m\u001b[1mWarning:\u001b[0m to view this Streamlit app on a browser, run it with the following\n",
      "  command:\n",
      "\n",
      "    streamlit run /Users/jaeminlee/anaconda3/envs/venv/lib/python3.8/site-packages/ipykernel_launcher.py [ARGUMENTS]\n"
     ]
    },
    {
     "data": {
      "text/plain": [
       "<function streamlit.delta_generator.DeltaGenerator.__getattr__.<locals>.wrapper(*args: Any, **kwargs: Any) -> NoReturn>"
      ]
     },
     "execution_count": 36,
     "metadata": {},
     "output_type": "execute_result"
    }
   ],
   "source": [
    "st.image(ds_array).on_click"
   ]
  },
  {
   "cell_type": "code",
   "execution_count": null,
   "id": "b1520507-3cab-429d-a85c-3d642444cc03",
   "metadata": {},
   "outputs": [],
   "source": []
  }
 ],
 "metadata": {
  "kernelspec": {
   "display_name": "Python 3 (ipykernel)",
   "language": "python",
   "name": "python3"
  },
  "language_info": {
   "codemirror_mode": {
    "name": "ipython",
    "version": 3
   },
   "file_extension": ".py",
   "mimetype": "text/x-python",
   "name": "python",
   "nbconvert_exporter": "python",
   "pygments_lexer": "ipython3",
   "version": "3.8.13"
  }
 },
 "nbformat": 4,
 "nbformat_minor": 5
}
